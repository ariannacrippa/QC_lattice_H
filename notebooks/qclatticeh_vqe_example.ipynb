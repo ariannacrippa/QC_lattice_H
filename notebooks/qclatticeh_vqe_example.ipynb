{
 "cells": [
  {
   "cell_type": "markdown",
   "id": "d644c731",
   "metadata": {},
   "source": [
    "# Example of how to run a VQE for (2+1)D QED"
   ]
  },
  {
   "cell_type": "code",
   "execution_count": 1,
   "id": "a36e8799",
   "metadata": {},
   "outputs": [],
   "source": [
    "import qiskit"
   ]
  },
  {
   "cell_type": "code",
   "execution_count": 2,
   "id": "abd1307d",
   "metadata": {},
   "outputs": [],
   "source": [
    "from scipy.sparse.linalg import eigsh\n",
    "from qiskit.quantum_info import Statevector\n",
    "import numpy as np\n",
    "import matplotlib.pyplot as plt\n",
    "import sys\n",
    "from itertools import permutations\n",
    "from scipy.sparse.linalg import eigsh"
   ]
  },
  {
   "cell_type": "code",
   "execution_count": 3,
   "id": "9df51d6d",
   "metadata": {},
   "outputs": [],
   "source": [
    "sys.path.append(\"../\") # go to parent dir\n",
    "from qclatticeh.hamiltonian.Hamiltonian_QED_sym import HamiltonianQED_sym\n",
    "from qclatticeh.hamiltonian.Hamiltonian_QED_oprt import HamiltonianQED_oprt\n",
    "from qclatticeh.lattice.HC_Lattice import HCLattice"
   ]
  },
  {
   "cell_type": "markdown",
   "id": "15c46985",
   "metadata": {},
   "source": [
    "### Start with the Hamiltonian"
   ]
  },
  {
   "cell_type": "code",
   "execution_count": 18,
   "id": "ba91fe19",
   "metadata": {},
   "outputs": [],
   "source": [
    "#class input parameters:\n",
    "n_sites = [2,2]#how many sites for every dimension\n",
    "n_flavors = 1#how many flavors of particles\n",
    "\n",
    "#Hamiltonian parameters:\n",
    "g=0.5\n",
    "fact_e_op = 1\n",
    "fact_b_op = 1\n",
    "m=3\n",
    "omega=1\n",
    "l=1\n",
    "L=8\n",
    "rotors = False\n",
    "lambd = 1000\n",
    "encoding = 'gray' #'ed'#\n",
    "magnetic_basis=False\n",
    "pbc=False\n",
    "puregauge = False\n",
    "static_charges_values =None#{(0,0):1,(1,0):-1}#TODO: no conditions applied, like charge conservation, etc. For conditions see func_qstatic_dist\n",
    "display_hamiltonian=False\n",
    "e_op_out_plus=False #if E out of site n has plus sign\n",
    "sparse_pauli=False\n",
    "#exact diagonalisation parameters:\n",
    "threshold = 1e-12\n",
    "num_eigs = 2"
   ]
  },
  {
   "cell_type": "code",
   "execution_count": 19,
   "id": "6d8b17f5",
   "metadata": {},
   "outputs": [],
   "source": [
    "latt = HCLattice(n_sites,pbc=pbc,n_flavors=n_flavors)"
   ]
  },
  {
   "cell_type": "code",
   "execution_count": 20,
   "id": "c56ed665",
   "metadata": {},
   "outputs": [
    {
     "name": "stdout",
     "output_type": "stream",
     "text": [
      "Alpha angle α=2 π/2L+1\n",
      "HamiltonianQED_sym: Initializing...\n",
      ">> Gauss law system of equations (symbolic + latex):\n",
      "static charges: None\n"
     ]
    },
    {
     "data": {
      "text/latex": [
       "$\\displaystyle - E_{00x} - E_{00y} - q_{00} = 0$"
      ],
      "text/plain": [
       "Eq(-E_00x - E_00y - q_00, 0)"
      ]
     },
     "metadata": {},
     "output_type": "display_data"
    },
    {
     "data": {
      "text/latex": [
       "$\\displaystyle E_{00y} - E_{01x} - q_{01} = 0$"
      ],
      "text/plain": [
       "Eq(E_00y - E_01x - q_01, 0)"
      ]
     },
     "metadata": {},
     "output_type": "display_data"
    },
    {
     "data": {
      "text/latex": [
       "$\\displaystyle E_{00x} - E_{10y} - q_{10} = 0$"
      ],
      "text/plain": [
       "Eq(E_00x - E_10y - q_10, 0)"
      ]
     },
     "metadata": {},
     "output_type": "display_data"
    },
    {
     "data": {
      "text/latex": [
       "$\\displaystyle E_{01x} + E_{10y} - q_{11} = 0$"
      ],
      "text/plain": [
       "Eq(E_01x + E_10y - q_11, 0)"
      ]
     },
     "metadata": {},
     "output_type": "display_data"
    },
    {
     "data": {
      "text/latex": [
       "$\\displaystyle q_{00} + q_{01} + q_{10} + q_{11} = 0$"
      ],
      "text/plain": [
       "Eq(q_00 + q_01 + q_10 + q_11, 0)"
      ]
     },
     "metadata": {},
     "output_type": "display_data"
    },
    {
     "name": "stdout",
     "output_type": "stream",
     "text": [
      "- E_{00x} - E_{00y} - q_{00} &= 0 \\\\ \\nonumber\n",
      "E_{00y} - E_{01x} - q_{01} &= 0 \\\\ \\nonumber\n",
      "E_{00x} - E_{10y} - q_{10} &= 0 \\\\ \\nonumber\n",
      "E_{01x} + E_{10y} - q_{11} &= 0 \\\\ \\nonumber\n",
      "q_{00} + q_{01} + q_{10} + q_{11} &= 0 \n",
      "\n",
      "> Gauss law equations solved\n",
      "> e_op_free and u_op_free built\n",
      ">> Hamiltonian (symbolic + latex):\n"
     ]
    },
    {
     "data": {
      "text/latex": [
       "$\\displaystyle H_{E} = \\frac{g^{2} \\left(E_{10y}^{2} + \\left(- E_{10y} + q_{11}\\right)^{2} + \\left(E_{10y} + q_{10}\\right)^{2} + \\left(- E_{10y} + q_{01} + q_{11}\\right)^{2}\\right)}{2}$"
      ],
      "text/plain": [
       "Eq(H_E, g**2*(E_10y**2 + (-E_10y + q_11)**2 + (E_10y + q_10)**2 + (-E_10y + q_01 + q_11)**2)/2)"
      ]
     },
     "metadata": {},
     "output_type": "display_data"
    },
    {
     "name": "stdout",
     "output_type": "stream",
     "text": [
      "H_{E} = \\frac{g^{2} \\left(E_{10y}^{2} + \\left(- E_{10y} + q_{11}\\right)^{2} + \\left(E_{10y} + q_{10}\\right)^{2} + \\left(- E_{10y} + q_{01} + q_{11}\\right)^{2}\\right)}{2}\n"
     ]
    },
    {
     "data": {
      "text/latex": [
       "$\\displaystyle H_{B} = - \\frac{U_{10y} + h.c.}{2 g^{2}}$"
      ],
      "text/plain": [
       "Eq(H_B, -(U_10y + h.c.)/(2*g**2))"
      ]
     },
     "metadata": {},
     "output_type": "display_data"
    },
    {
     "name": "stdout",
     "output_type": "stream",
     "text": [
      "H_{B} = - \\frac{U_{10y} + h.c.}{2 g^{2}}\n"
     ]
    },
    {
     "data": {
      "text/latex": [
       "$\\displaystyle H_{K} = \\Omega \\left(0.5 i \\left(- h.c.(x) + \\Phi_{1}^{\\dagger} \\Phi_{2} + \\Phi_{4}^{\\dagger} \\Phi_{3}\\right) - 0.5 \\left(h.c.(y) + \\Phi_{1}^{\\dagger} \\Phi_{4} - \\Phi_{2}^{\\dagger} U_{10y}^{\\dagger} \\Phi_{3}\\right)\\right)$"
      ],
      "text/plain": [
       "Eq(H_K, Omega*(0.5*I*(-h.c.(x) + Dagger(Phi_1)*Phi_2 + Dagger(Phi_4)*Phi_3) - 0.5*(h.c.(y) + Dagger(Phi_1)*Phi_4 - Dagger(Phi_2)*Dagger(U_10y)*Phi_3)))"
      ]
     },
     "metadata": {},
     "output_type": "display_data"
    },
    {
     "name": "stdout",
     "output_type": "stream",
     "text": [
      "H_{K} = \\Omega \\left(0.5 i \\left(- h.c.(x) + \\Phi_{1}^{\\dagger} \\Phi_{2} + \\Phi_{4}^{\\dagger} \\Phi_{3}\\right) - 0.5 \\left(h.c.(y) + \\Phi_{1}^{\\dagger} \\Phi_{4} - \\Phi_{2}^{\\dagger} U_{10y}^{\\dagger} \\Phi_{3}\\right)\\right)\n"
     ]
    },
    {
     "data": {
      "text/latex": [
       "$\\displaystyle H_{m} = m \\left(\\Phi_{1}^{\\dagger} \\Phi_{1} - \\Phi_{2}^{\\dagger} \\Phi_{2} + \\Phi_{3}^{\\dagger} \\Phi_{3} - \\Phi_{4}^{\\dagger} \\Phi_{4}\\right)$"
      ],
      "text/plain": [
       "Eq(H_m, m*(Dagger(Phi_1)*Phi_1 - Dagger(Phi_2)*Phi_2 + Dagger(Phi_3)*Phi_3 - Dagger(Phi_4)*Phi_4))"
      ]
     },
     "metadata": {},
     "output_type": "display_data"
    },
    {
     "name": "stdout",
     "output_type": "stream",
     "text": [
      "H_{m} = m \\left(\\Phi_{1}^{\\dagger} \\Phi_{1} - \\Phi_{2}^{\\dagger} \\Phi_{2} + \\Phi_{3}^{\\dagger} \\Phi_{3} - \\Phi_{4}^{\\dagger} \\Phi_{4}\\right)\n",
      ">> Gauss law applied and Hamiltonian built.  Execution time: 0.031600236892700195 seconds\n",
      "HamiltonianQED_oprt: Initializing...\n",
      "> e_op_free and u_op_free built\n",
      "> Pauli strings built\n",
      "qubit order |qn...q2q1q0>: [q_01, q_11, q_10, q_00, U_10y]\n",
      "Hamiltonian_el_pauli done\n",
      ">> Hamiltonian built.  Execution time: 2.447761058807373 seconds\n",
      "Hamiltonian suppr fermions...\n",
      "Hamiltonian suppr fermions done\n",
      ">> Suppression term built.  Execution time: 0.0022628307342529297 seconds\n"
     ]
    }
   ],
   "source": [
    "# Creating a configuration dictionary with common inputs\n",
    "config = {\n",
    "    'latt': latt,\n",
    "    'n_sites': n_sites,\n",
    "    'n_flavors': n_flavors,\n",
    "    'l':l,\n",
    "    'L':L,\n",
    "    'encoding':encoding,\n",
    "    'magnetic_basis': magnetic_basis,\n",
    "    'pbc': pbc,\n",
    "    'puregauge': puregauge,\n",
    "    'static_charges_values': None,\n",
    "    'e_op_out_plus': e_op_out_plus\n",
    "}\n",
    "hamilt_sym = HamiltonianQED_sym(config,display_hamiltonian=True)\n",
    "class_H_oprt = HamiltonianQED_oprt( config,hamilt_sym, sparse_pauli=sparse_pauli)"
   ]
  },
  {
   "cell_type": "markdown",
   "id": "facb2414",
   "metadata": {},
   "source": [
    "### Obtain a specific Hamiltonian for a certain set of values"
   ]
  },
  {
   "cell_type": "code",
   "execution_count": 37,
   "id": "0f95f125",
   "metadata": {},
   "outputs": [],
   "source": [
    "H_ed = class_H_oprt.get_hamiltonian(g_var=5, m_var=2, chem_pot=0, fact_e_op=fact_e_op, fact_b_op=fact_b_op, lambd=1000)\n",
    "H_vqe = class_H_oprt.get_hamiltonian(g_var=5, m_var=2, chem_pot=0, fact_e_op=fact_e_op, fact_b_op=fact_b_op, lambd=0)"
   ]
  },
  {
   "cell_type": "markdown",
   "id": "26354ede",
   "metadata": {},
   "source": [
    "Note, the lambd parameter could have been set the same, yet it is not needed and penalty terms can be disadvantegous for VQE."
   ]
  },
  {
   "cell_type": "code",
   "execution_count": 38,
   "id": "97cb62a5",
   "metadata": {},
   "outputs": [],
   "source": [
    "eigvals, eigvecs = eigsh(H_ed.to_matrix(), k=1, which='SA', tol=threshold)"
   ]
  },
  {
   "cell_type": "markdown",
   "id": "386b666f",
   "metadata": {},
   "source": [
    "## Get the correct ansatz circuit"
   ]
  },
  {
   "cell_type": "code",
   "execution_count": 39,
   "id": "4cce4292",
   "metadata": {},
   "outputs": [],
   "source": [
    "from qclatticeh.circuits.Ansaetze import Ansatz"
   ]
  },
  {
   "cell_type": "code",
   "execution_count": 40,
   "id": "8ef9bbd9",
   "metadata": {},
   "outputs": [],
   "source": [
    "ngauge = class_H_oprt.len_e_op\n",
    "\n",
    "n_fermions = np.prod(latt.n_sites)\n",
    "\n",
    "nlayersgauge = 1\n",
    "nlayersferm = 5\n",
    "entanglement = 'full'\n",
    "rzlayer = True\n",
    "puregauge = False\n",
    "use_for_nft = True\n",
    "\n",
    "n_qubits =int(np.ceil(np.log2(2 * l+ 1)))\n",
    "\n",
    "\n",
    "ansatz_class = Ansatz(l,ngauge,nfermions=n_fermions,gauge_list= class_H_oprt.uop_list,ferm_list=class_H_oprt.qop_list, n_flavors=1, use_for_nft=use_for_nft)"
   ]
  },
  {
   "cell_type": "code",
   "execution_count": 41,
   "id": "f509db4a",
   "metadata": {},
   "outputs": [],
   "source": [
    "qc_tot2,first_layer_par = ansatz_class.gauge_fermion_circuit(entanglement=entanglement,rzlayer=rzlayer,nlayersgauge=nlayersgauge,nlayersferm=nlayersferm)"
   ]
  },
  {
   "cell_type": "markdown",
   "id": "f0096c7a",
   "metadata": {},
   "source": [
    "### Write a simple VQE scheme"
   ]
  },
  {
   "cell_type": "code",
   "execution_count": 42,
   "id": "610e8161",
   "metadata": {},
   "outputs": [],
   "source": [
    "from qiskit_aer import AerSimulator\n",
    "from qiskit_ibm_runtime import EstimatorV2\n",
    "from qiskit.transpiler.preset_passmanagers import generate_preset_pass_manager"
   ]
  },
  {
   "cell_type": "code",
   "execution_count": 43,
   "id": "4b1f9401",
   "metadata": {},
   "outputs": [],
   "source": [
    "backend = AerSimulator()"
   ]
  },
  {
   "cell_type": "markdown",
   "id": "888874c0",
   "metadata": {},
   "source": [
    "Now we can transpile for this backend"
   ]
  },
  {
   "cell_type": "code",
   "execution_count": 44,
   "id": "9119554c",
   "metadata": {},
   "outputs": [],
   "source": [
    "pm = generate_preset_pass_manager(target=backend.target, optimization_level=3)\n",
    "\n",
    "ansatz_isa = pm.run(qc_tot2)\n",
    "H_isa = H_vqe.apply_layout(ansatz_isa.layout)"
   ]
  },
  {
   "cell_type": "code",
   "execution_count": null,
   "id": "b36ae5fd",
   "metadata": {},
   "outputs": [],
   "source": [
    "cost_history_dict = {\n",
    "    \"prev_vector\": None,\n",
    "    \"iters\": 0,\n",
    "    \"cost_history\": [],\n",
    "}"
   ]
  },
  {
   "cell_type": "code",
   "execution_count": null,
   "id": "87409fe9",
   "metadata": {},
   "outputs": [],
   "source": [
    "def cost_func(params, ansatz, hamiltonian, estimator):\n",
    "    \"\"\"Return estimate of energy from estimator\n",
    "\n",
    "    Parameters:\n",
    "        params (ndarray): Array of ansatz parameters\n",
    "        ansatz (QuantumCircuit): Parameterized ansatz circuit\n",
    "        hamiltonian (SparsePauliOp): Operator representation of Hamiltonian\n",
    "        estimator (EstimatorV2): Estimator primitive instance\n",
    "        cost_history_dict: Dictionary for storing intermediate results\n",
    "\n",
    "    Returns:\n",
    "        float: Energy estimate\n",
    "    \"\"\"\n",
    "    pub = (ansatz, [hamiltonian], [params])\n",
    "    result = estimator.run(pubs=[pub]).result()\n",
    "    energy = result[0].data.evs[0]\n",
    "\n",
    "    cost_history_dict[\"iters\"] += 1\n",
    "    cost_history_dict[\"prev_vector\"] = params\n",
    "    cost_history_dict[\"cost_history\"].append(energy)\n",
    "    print(f\"Iters. done: {cost_history_dict['iters']} [Current cost: {energy}]\")\n",
    "\n",
    "    return energy"
   ]
  },
  {
   "cell_type": "code",
   "execution_count": 47,
   "id": "0a6feb46",
   "metadata": {},
   "outputs": [],
   "source": [
    "x0 = 2 * np.pi * np.random.random(ansatz_isa.num_parameters)"
   ]
  },
  {
   "cell_type": "code",
   "execution_count": 48,
   "id": "a23d771c",
   "metadata": {},
   "outputs": [],
   "source": [
    "from scipy.optimize import minimize"
   ]
  },
  {
   "cell_type": "code",
   "execution_count": 49,
   "id": "764f989f",
   "metadata": {},
   "outputs": [
    {
     "name": "stdout",
     "output_type": "stream",
     "text": [
      "Iters. done: 1 [Current cost: 48.17025100000001]\n",
      "Iters. done: 2 [Current cost: 47.6883605]\n",
      "Iters. done: 3 [Current cost: 49.671842500000004]\n",
      "Iters. done: 4 [Current cost: 39.6309815]\n",
      "Iters. done: 5 [Current cost: 39.612699000000006]\n",
      "Iters. done: 6 [Current cost: 35.626649500000006]\n",
      "Iters. done: 7 [Current cost: 41.601816500000005]\n",
      "Iters. done: 8 [Current cost: 36.7090905]\n",
      "Iters. done: 9 [Current cost: 43.08755100000002]\n",
      "Iters. done: 10 [Current cost: 42.7492915]\n",
      "Iters. done: 11 [Current cost: 36.74856849999999]\n",
      "Iters. done: 12 [Current cost: 40.33199899999998]\n",
      "Iters. done: 13 [Current cost: 41.544608499999995]\n",
      "Iters. done: 14 [Current cost: 43.054501999999985]\n",
      "Iters. done: 15 [Current cost: 36.139450499999995]\n",
      "Iters. done: 16 [Current cost: 34.19947]\n",
      "Iters. done: 17 [Current cost: 33.09413450000002]\n",
      "Iters. done: 18 [Current cost: 34.74378749999999]\n",
      "Iters. done: 19 [Current cost: 32.882849]\n",
      "Iters. done: 20 [Current cost: 33.225683999999994]\n",
      "Iters. done: 21 [Current cost: 33.079078]\n",
      "Iters. done: 22 [Current cost: 32.76764950000001]\n",
      "Iters. done: 23 [Current cost: 33.146781499999996]\n",
      "Iters. done: 24 [Current cost: 33.22099599999999]\n",
      "Iters. done: 25 [Current cost: 36.705365500000006]\n",
      "Iters. done: 26 [Current cost: 32.9423565]\n",
      "Iters. done: 27 [Current cost: 32.05557849999999]\n",
      "Iters. done: 28 [Current cost: 40.934155000000004]\n",
      "Iters. done: 29 [Current cost: 38.91054300000001]\n",
      "Iters. done: 30 [Current cost: 31.58225299999999]\n",
      "Iters. done: 31 [Current cost: 34.677535000000006]\n",
      "Iters. done: 32 [Current cost: 32.39339250000001]\n",
      "Iters. done: 33 [Current cost: 33.60151999999999]\n",
      "Iters. done: 34 [Current cost: 33.137006500000005]\n",
      "Iters. done: 35 [Current cost: 34.516663000000015]\n",
      "Iters. done: 36 [Current cost: 29.1736325]\n",
      "Iters. done: 37 [Current cost: 36.547391]\n",
      "Iters. done: 38 [Current cost: 29.81724149999999]\n",
      "Iters. done: 39 [Current cost: 31.685973500000003]\n",
      "Iters. done: 40 [Current cost: 29.801401999999996]\n",
      "Iters. done: 41 [Current cost: 31.691338000000002]\n",
      "Iters. done: 42 [Current cost: 28.187989499999993]\n",
      "Iters. done: 43 [Current cost: 29.116554499999996]\n",
      "Iters. done: 44 [Current cost: 30.056084500000008]\n",
      "Iters. done: 45 [Current cost: 27.348687500000004]\n",
      "Iters. done: 46 [Current cost: 26.083036500000006]\n",
      "Iters. done: 47 [Current cost: 29.331329000000018]\n",
      "Iters. done: 48 [Current cost: 28.84442549999999]\n",
      "Iters. done: 49 [Current cost: 27.971531000000006]\n",
      "Iters. done: 50 [Current cost: 26.535944499999985]\n",
      "Iters. done: 51 [Current cost: 30.951585500000014]\n",
      "Iters. done: 52 [Current cost: 26.307801999999985]\n",
      "Iters. done: 53 [Current cost: 30.476833]\n",
      "Iters. done: 54 [Current cost: 26.4632175]\n",
      "Iters. done: 55 [Current cost: 26.811916499999995]\n",
      "Iters. done: 56 [Current cost: 27.128102999999996]\n",
      "Iters. done: 57 [Current cost: 28.10134299999999]\n",
      "Iters. done: 58 [Current cost: 26.39562700000001]\n",
      "Iters. done: 59 [Current cost: 27.130847000000006]\n",
      "Iters. done: 60 [Current cost: 27.736033499999987]\n",
      "Iters. done: 61 [Current cost: 36.724673499999994]\n",
      "Iters. done: 62 [Current cost: 26.06269050000001]\n",
      "Iters. done: 63 [Current cost: 25.61115249999998]\n",
      "Iters. done: 64 [Current cost: 25.498192]\n",
      "Iters. done: 65 [Current cost: 30.083927]\n",
      "Iters. done: 66 [Current cost: 27.15599499999998]\n",
      "Iters. done: 67 [Current cost: 26.018080500000014]\n",
      "Iters. done: 68 [Current cost: 27.046727000000008]\n",
      "Iters. done: 69 [Current cost: 27.576771999999995]\n",
      "Iters. done: 70 [Current cost: 27.4324075]\n",
      "Iters. done: 71 [Current cost: 28.605570500000006]\n",
      "Iters. done: 72 [Current cost: 32.169675999999995]\n",
      "Iters. done: 73 [Current cost: 25.792006999999995]\n",
      "Iters. done: 74 [Current cost: 25.813913999999993]\n",
      "Iters. done: 75 [Current cost: 26.100208]\n",
      "Iters. done: 76 [Current cost: 25.878760000000014]\n",
      "Iters. done: 77 [Current cost: 27.740163999999996]\n",
      "Iters. done: 78 [Current cost: 26.673207]\n",
      "Iters. done: 79 [Current cost: 26.559158000000018]\n",
      "Iters. done: 80 [Current cost: 26.469952500000005]\n",
      "Iters. done: 81 [Current cost: 27.001033000000003]\n",
      "Iters. done: 82 [Current cost: 25.966461499999998]\n",
      "Iters. done: 83 [Current cost: 26.314172999999993]\n",
      "Iters. done: 84 [Current cost: 25.830077500000012]\n",
      "Iters. done: 85 [Current cost: 26.226996999999994]\n",
      "Iters. done: 86 [Current cost: 24.20660850000001]\n",
      "Iters. done: 87 [Current cost: 26.3099085]\n",
      "Iters. done: 88 [Current cost: 24.369858999999998]\n",
      "Iters. done: 89 [Current cost: 23.688383999999996]\n",
      "Iters. done: 90 [Current cost: 23.71533050000001]\n",
      "Iters. done: 91 [Current cost: 23.90442550000001]\n",
      "Iters. done: 92 [Current cost: 23.44231250000001]\n",
      "Iters. done: 93 [Current cost: 23.721614]\n",
      "Iters. done: 94 [Current cost: 23.788001000000005]\n",
      "Iters. done: 95 [Current cost: 23.06873449999999]\n",
      "Iters. done: 96 [Current cost: 24.085144999999994]\n",
      "Iters. done: 97 [Current cost: 23.34477249999999]\n",
      "Iters. done: 98 [Current cost: 23.233995500000002]\n",
      "Iters. done: 99 [Current cost: 21.192200500000002]\n",
      "Iters. done: 100 [Current cost: 20.507961500000004]\n",
      "Iters. done: 101 [Current cost: 20.121951000000006]\n",
      "Iters. done: 102 [Current cost: 18.118210500000004]\n",
      "Iters. done: 103 [Current cost: 18.747658499999996]\n",
      "Iters. done: 104 [Current cost: 18.218717500000007]\n",
      "Iters. done: 105 [Current cost: 19.5291365]\n",
      "Iters. done: 106 [Current cost: 18.141674999999985]\n",
      "Iters. done: 107 [Current cost: 17.183676500000004]\n",
      "Iters. done: 108 [Current cost: 16.74914]\n",
      "Iters. done: 109 [Current cost: 17.3001845]\n",
      "Iters. done: 110 [Current cost: 16.607051500000008]\n",
      "Iters. done: 111 [Current cost: 16.741791]\n",
      "Iters. done: 112 [Current cost: 16.664862000000007]\n",
      "Iters. done: 113 [Current cost: 16.97172050000001]\n",
      "Iters. done: 114 [Current cost: 16.8192475]\n",
      "Iters. done: 115 [Current cost: 16.850542000000004]\n",
      "Iters. done: 116 [Current cost: 17.40532449999999]\n",
      "Iters. done: 117 [Current cost: 19.646883]\n",
      "Iters. done: 118 [Current cost: 17.360326]\n",
      "Iters. done: 119 [Current cost: 16.008078]\n",
      "Iters. done: 120 [Current cost: 17.899161999999997]\n",
      "Iters. done: 121 [Current cost: 15.389477499999998]\n",
      "Iters. done: 122 [Current cost: 15.168016000000001]\n",
      "Iters. done: 123 [Current cost: 14.593744999999998]\n",
      "Iters. done: 124 [Current cost: 13.868008500000006]\n",
      "Iters. done: 125 [Current cost: 14.325866999999997]\n",
      "Iters. done: 126 [Current cost: 14.196380499999998]\n",
      "Iters. done: 127 [Current cost: 12.885618000000003]\n",
      "Iters. done: 128 [Current cost: 13.852798500000006]\n",
      "Iters. done: 129 [Current cost: 17.256214500000006]\n",
      "Iters. done: 130 [Current cost: 13.143989]\n",
      "Iters. done: 131 [Current cost: 12.670307500000002]\n",
      "Iters. done: 132 [Current cost: 14.118263000000004]\n",
      "Iters. done: 133 [Current cost: 10.796473500000003]\n",
      "Iters. done: 134 [Current cost: 11.676916499999999]\n",
      "Iters. done: 135 [Current cost: 10.719914499999994]\n",
      "Iters. done: 136 [Current cost: 11.492388000000005]\n",
      "Iters. done: 137 [Current cost: 11.106751500000003]\n",
      "Iters. done: 138 [Current cost: 10.443788499999993]\n",
      "Iters. done: 139 [Current cost: 9.997234500000003]\n",
      "Iters. done: 140 [Current cost: 11.644787]\n",
      "Iters. done: 141 [Current cost: 9.479380500000001]\n",
      "Iters. done: 142 [Current cost: 10.767408000000005]\n",
      "Iters. done: 143 [Current cost: 9.618154000000002]\n",
      "Iters. done: 144 [Current cost: 9.070071500000005]\n",
      "Iters. done: 145 [Current cost: 10.28275849999999]\n",
      "Iters. done: 146 [Current cost: 8.674952500000018]\n",
      "Iters. done: 147 [Current cost: 9.241527000000003]\n",
      "Iters. done: 148 [Current cost: 11.0673885]\n",
      "Iters. done: 149 [Current cost: 8.942337999999989]\n",
      "Iters. done: 150 [Current cost: 8.456747500000013]\n",
      "Iters. done: 151 [Current cost: 8.291617500000005]\n",
      "Iters. done: 152 [Current cost: 8.698356]\n",
      "Iters. done: 153 [Current cost: 7.974582500000013]\n",
      "Iters. done: 154 [Current cost: 7.873150499999995]\n",
      "Iters. done: 155 [Current cost: 7.680206500000013]\n",
      "Iters. done: 156 [Current cost: 8.086761499999994]\n",
      "Iters. done: 157 [Current cost: 8.299477000000008]\n",
      "Iters. done: 158 [Current cost: 8.295686]\n",
      "Iters. done: 159 [Current cost: 7.72839200000001]\n",
      "Iters. done: 160 [Current cost: 5.503891999999996]\n",
      "Iters. done: 161 [Current cost: 5.469077999999993]\n",
      "Iters. done: 162 [Current cost: 5.814258999999994]\n",
      "Iters. done: 163 [Current cost: 7.335444499999999]\n",
      "Iters. done: 164 [Current cost: 6.20734199999999]\n",
      "Iters. done: 165 [Current cost: 2.5565089999999966]\n",
      "Iters. done: 166 [Current cost: 1.370185499999999]\n",
      "Iters. done: 167 [Current cost: 1.5988574999999932]\n",
      "Iters. done: 168 [Current cost: 2.414070999999997]\n",
      "Iters. done: 169 [Current cost: 1.6826370000000006]\n",
      "Iters. done: 170 [Current cost: 2.6302935000000023]\n",
      "Iters. done: 171 [Current cost: 2.111832999999989]\n",
      "Iters. done: 172 [Current cost: 2.7267174999999977]\n",
      "Iters. done: 173 [Current cost: 0.36297449999999376]\n",
      "Iters. done: 174 [Current cost: 0.1541755000000018]\n",
      "Iters. done: 175 [Current cost: -0.043946000000007146]\n",
      "Iters. done: 176 [Current cost: -0.6758110000000013]\n",
      "Iters. done: 177 [Current cost: -0.7273299999999994]\n",
      "Iters. done: 178 [Current cost: -0.8126820000000015]\n",
      "Iters. done: 179 [Current cost: -0.01924000000000614]\n",
      "Iters. done: 180 [Current cost: -1.114695500000006]\n",
      "Iters. done: 181 [Current cost: -0.5620475000000011]\n",
      "Iters. done: 182 [Current cost: -0.43561550000000526]\n",
      "Iters. done: 183 [Current cost: -0.29109150000000117]\n",
      "Iters. done: 184 [Current cost: -1.366089000000004]\n",
      "Iters. done: 185 [Current cost: -1.2150349999999905]\n",
      "Iters. done: 186 [Current cost: -0.47143300000000643]\n",
      "Iters. done: 187 [Current cost: -1.1134835000000072]\n",
      "Iters. done: 188 [Current cost: 0.16092200000000023]\n",
      "Iters. done: 189 [Current cost: -0.7149449999999966]\n",
      "Iters. done: 190 [Current cost: -0.9029514999999986]\n",
      "Iters. done: 191 [Current cost: -1.852588500000003]\n",
      "Iters. done: 192 [Current cost: -2.1183975000000057]\n",
      "Iters. done: 193 [Current cost: -2.368168999999991]\n",
      "Iters. done: 194 [Current cost: -1.1582775000000076]\n",
      "Iters. done: 195 [Current cost: -2.712341499999999]\n",
      "Iters. done: 196 [Current cost: -1.106697499999993]\n",
      "Iters. done: 197 [Current cost: -2.7719835000000037]\n",
      "Iters. done: 198 [Current cost: -2.811255500000004]\n",
      "Iters. done: 199 [Current cost: -2.379796499999993]\n",
      "Iters. done: 200 [Current cost: -1.7295394999999942]\n",
      "Iters. done: 201 [Current cost: -2.3829599999999944]\n",
      "Iters. done: 202 [Current cost: -1.8651035000000045]\n",
      "Iters. done: 203 [Current cost: -2.611630500000011]\n",
      "Iters. done: 204 [Current cost: -1.1889325000000017]\n",
      "Iters. done: 205 [Current cost: -2.1248585]\n",
      "Iters. done: 206 [Current cost: -0.049897999999990894]\n",
      "Iters. done: 207 [Current cost: -2.8430780000000073]\n",
      "Iters. done: 208 [Current cost: -2.322486999999997]\n",
      "Iters. done: 209 [Current cost: -2.328321000000007]\n",
      "Iters. done: 210 [Current cost: -2.495359999999998]\n",
      "Iters. done: 211 [Current cost: -2.779527499999994]\n",
      "Iters. done: 212 [Current cost: -1.8653424999999952]\n",
      "Iters. done: 213 [Current cost: -2.843428999999997]\n",
      "Iters. done: 214 [Current cost: -2.1234970000000066]\n",
      "Iters. done: 215 [Current cost: -2.455428999999996]\n",
      "Iters. done: 216 [Current cost: -0.9627845000000059]\n",
      "Iters. done: 217 [Current cost: -2.6193559999999954]\n",
      "Iters. done: 218 [Current cost: -2.303576000000003]\n",
      "Iters. done: 219 [Current cost: -2.7553910000000057]\n",
      "Iters. done: 220 [Current cost: -1.5468415000000046]\n",
      "Iters. done: 221 [Current cost: -2.8374545000000015]\n",
      "Iters. done: 222 [Current cost: -2.4383715000000024]\n",
      "Iters. done: 223 [Current cost: -2.8098885000000102]\n",
      "Iters. done: 224 [Current cost: -2.4506910000000017]\n",
      "Iters. done: 225 [Current cost: -3.1303414999999974]\n",
      "Iters. done: 226 [Current cost: -3.081936000000005]\n",
      "Iters. done: 227 [Current cost: -3.2318215000000032]\n",
      "Iters. done: 228 [Current cost: -3.1859860000000024]\n",
      "Iters. done: 229 [Current cost: -3.4509665000000016]\n",
      "Iters. done: 230 [Current cost: -3.1143600000000013]\n",
      "Iters. done: 231 [Current cost: -3.1149350000000053]\n",
      "Iters. done: 232 [Current cost: -3.456691000000001]\n",
      "Iters. done: 233 [Current cost: -3.162133999999999]\n",
      "Iters. done: 234 [Current cost: -3.502290000000002]\n",
      "Iters. done: 235 [Current cost: -3.490177000000007]\n",
      "Iters. done: 236 [Current cost: -3.509031499999999]\n",
      "Iters. done: 237 [Current cost: -3.1605149999999913]\n",
      "Iters. done: 238 [Current cost: -3.1946010000000005]\n",
      "Iters. done: 239 [Current cost: -3.7661080000000036]\n",
      "Iters. done: 240 [Current cost: -3.7284984999999935]\n",
      "Iters. done: 241 [Current cost: -3.526264999999997]\n",
      "Iters. done: 242 [Current cost: -3.7661674999999937]\n",
      "Iters. done: 243 [Current cost: -3.582449500000007]\n",
      "Iters. done: 244 [Current cost: -3.586780500000006]\n",
      "Iters. done: 245 [Current cost: -3.3683830000000023]\n",
      "Iters. done: 246 [Current cost: -3.639810999999998]\n",
      "Iters. done: 247 [Current cost: -3.5170629999999905]\n",
      "Iters. done: 248 [Current cost: -3.691582000000004]\n",
      "Iters. done: 249 [Current cost: -3.61671250000001]\n",
      "Iters. done: 250 [Current cost: -3.6545659999999973]\n",
      "Iters. done: 251 [Current cost: -3.3508305]\n",
      "Iters. done: 252 [Current cost: -3.640226500000016]\n",
      "Iters. done: 253 [Current cost: -3.16301]\n",
      "Iters. done: 254 [Current cost: -3.5033865000000013]\n",
      "Iters. done: 255 [Current cost: -3.48217]\n",
      "Iters. done: 256 [Current cost: -3.655621499999998]\n",
      "Iters. done: 257 [Current cost: -3.405123500000009]\n",
      "Iters. done: 258 [Current cost: -3.6172145000000064]\n",
      "Iters. done: 259 [Current cost: -3.692628000000001]\n",
      "Iters. done: 260 [Current cost: -3.7055085000000014]\n",
      "Iters. done: 261 [Current cost: -3.6361390000000036]\n",
      "Iters. done: 262 [Current cost: -3.7507049999999937]\n",
      "Iters. done: 263 [Current cost: -3.6218540000000043]\n",
      "Iters. done: 264 [Current cost: -3.640633999999997]\n",
      "Iters. done: 265 [Current cost: -3.674623000000002]\n",
      "Iters. done: 266 [Current cost: -3.7463680000000057]\n",
      "Iters. done: 267 [Current cost: -3.713676000000002]\n",
      "Iters. done: 268 [Current cost: -3.5700400000000014]\n",
      "Iters. done: 269 [Current cost: -3.624700499999994]\n",
      "Iters. done: 270 [Current cost: -3.674142999999998]\n",
      "Iters. done: 271 [Current cost: -3.720854500000004]\n",
      "Iters. done: 272 [Current cost: -3.6887969999999966]\n",
      "Iters. done: 273 [Current cost: -3.73594049999999]\n",
      "Iters. done: 274 [Current cost: -3.7538374999999977]\n",
      "Iters. done: 275 [Current cost: -3.723048499999993]\n",
      "Iters. done: 276 [Current cost: -3.7395514999999957]\n",
      "Iters. done: 277 [Current cost: -3.695859999999997]\n",
      "Iters. done: 278 [Current cost: -3.607844000000008]\n",
      "Iters. done: 279 [Current cost: -3.725937000000001]\n",
      "Iters. done: 280 [Current cost: -3.723615999999999]\n",
      "Iters. done: 281 [Current cost: -3.669767499999999]\n",
      "Iters. done: 282 [Current cost: -3.695818499999997]\n",
      "Iters. done: 283 [Current cost: -3.780613999999999]\n",
      "Iters. done: 284 [Current cost: -3.710113000000004]\n",
      "Iters. done: 285 [Current cost: -3.6806675000000038]\n",
      "Iters. done: 286 [Current cost: -3.798699499999996]\n",
      "Iters. done: 287 [Current cost: -3.7624024999999923]\n",
      "Iters. done: 288 [Current cost: -3.6717505000000035]\n",
      "Iters. done: 289 [Current cost: -3.7264894999999987]\n",
      "Iters. done: 290 [Current cost: -3.703522500000007]\n",
      "Iters. done: 291 [Current cost: -3.71561050000001]\n",
      "Iters. done: 292 [Current cost: -3.7533969999999988]\n",
      "Iters. done: 293 [Current cost: -3.7006050000000013]\n",
      "Iters. done: 294 [Current cost: -3.756406500000005]\n",
      "Iters. done: 295 [Current cost: -3.816747999999996]\n",
      "Iters. done: 296 [Current cost: -3.776673499999994]\n",
      "Iters. done: 297 [Current cost: -3.738235499999999]\n",
      "Iters. done: 298 [Current cost: -3.750859999999995]\n",
      "Iters. done: 299 [Current cost: -3.718947499999998]\n",
      "Iters. done: 300 [Current cost: -3.7323165000000094]\n",
      "Iters. done: 301 [Current cost: -3.7607420000000022]\n",
      "Iters. done: 302 [Current cost: -3.7227605000000015]\n",
      "Iters. done: 303 [Current cost: -3.7188924999999964]\n",
      "Iters. done: 304 [Current cost: -3.737165499999997]\n",
      "Iters. done: 305 [Current cost: -3.760568499999998]\n",
      "Iters. done: 306 [Current cost: -3.7515789999999978]\n",
      "Iters. done: 307 [Current cost: -3.7212820000000013]\n",
      "Iters. done: 308 [Current cost: -3.783361000000001]\n",
      "Iters. done: 309 [Current cost: -3.7635099999999913]\n",
      "Iters. done: 310 [Current cost: -3.7846875000000013]\n",
      "Iters. done: 311 [Current cost: -3.6368874999999994]\n",
      "Iters. done: 312 [Current cost: -3.742416999999995]\n",
      "Iters. done: 313 [Current cost: -3.753204499999999]\n",
      "Iters. done: 314 [Current cost: -3.7644160000000007]\n",
      "Iters. done: 315 [Current cost: -3.7862009999999886]\n",
      "Iters. done: 316 [Current cost: -3.729928000000001]\n",
      "Iters. done: 317 [Current cost: -3.714679000000001]\n",
      "Iters. done: 318 [Current cost: -3.656073000000002]\n",
      "Iters. done: 319 [Current cost: -3.756758000000011]\n",
      "Iters. done: 320 [Current cost: -3.6894640000000063]\n",
      "Iters. done: 321 [Current cost: -3.741927499999999]\n",
      "Iters. done: 322 [Current cost: -3.7206649999999986]\n",
      "Iters. done: 323 [Current cost: -3.7152945000000006]\n",
      "Iters. done: 324 [Current cost: -3.734684500000003]\n",
      "Iters. done: 325 [Current cost: -3.672889500000001]\n",
      "Iters. done: 326 [Current cost: -3.697645499999992]\n",
      "Iters. done: 327 [Current cost: -3.698533000000003]\n",
      "Iters. done: 328 [Current cost: -3.7005329999999983]\n",
      "Iters. done: 329 [Current cost: -3.7099360000000026]\n",
      "Iters. done: 330 [Current cost: -3.7407664999999852]\n",
      "Iters. done: 331 [Current cost: -3.8007614999999966]\n",
      "Iters. done: 332 [Current cost: -3.793443999999991]\n",
      "Iters. done: 333 [Current cost: -3.7829844999999978]\n",
      "Iters. done: 334 [Current cost: -3.7205754999999927]\n",
      "Iters. done: 335 [Current cost: -3.6862145000000117]\n",
      "Iters. done: 336 [Current cost: -3.805087500000006]\n",
      "Iters. done: 337 [Current cost: -3.7583465000000027]\n",
      "Iters. done: 338 [Current cost: -3.676998000000011]\n",
      "Iters. done: 339 [Current cost: -3.735699499999993]\n",
      "Iters. done: 340 [Current cost: -3.7257245000000037]\n",
      "Iters. done: 341 [Current cost: -3.752056499999994]\n",
      "Iters. done: 342 [Current cost: -3.742274999999996]\n",
      "Iters. done: 343 [Current cost: -3.753037]\n",
      "Iters. done: 344 [Current cost: -3.7615095000000034]\n",
      "Iters. done: 345 [Current cost: -3.762859999999999]\n",
      "Iters. done: 346 [Current cost: -3.7628235000000005]\n",
      "Iters. done: 347 [Current cost: -3.7118095000000046]\n",
      "Iters. done: 348 [Current cost: -3.7015959999999994]\n",
      "Iters. done: 349 [Current cost: -3.7971224999999995]\n",
      "Iters. done: 350 [Current cost: -3.730351500000002]\n",
      "Iters. done: 351 [Current cost: -3.681561499999992]\n",
      "Iters. done: 352 [Current cost: -3.842811]\n",
      "Iters. done: 353 [Current cost: -3.7390495]\n",
      "Iters. done: 354 [Current cost: -3.726417999999997]\n",
      "Iters. done: 355 [Current cost: -3.7228829999999977]\n",
      "Iters. done: 356 [Current cost: -3.7426215000000065]\n",
      "Iters. done: 357 [Current cost: -3.7528630000000023]\n",
      "Iters. done: 358 [Current cost: -3.7337150000000054]\n",
      "Iters. done: 359 [Current cost: -3.7387244999999982]\n",
      "Iters. done: 360 [Current cost: -3.7679984999999956]\n",
      "Iters. done: 361 [Current cost: -3.7144244999999945]\n",
      "Iters. done: 362 [Current cost: -3.692371000000003]\n",
      "Iters. done: 363 [Current cost: -3.6577664999999966]\n",
      "Iters. done: 364 [Current cost: -3.7636509999999985]\n",
      "Iters. done: 365 [Current cost: -3.7443090000000083]\n",
      "Iters. done: 366 [Current cost: -3.7191314999999943]\n",
      "Iters. done: 367 [Current cost: -3.6893290000000114]\n",
      "Iters. done: 368 [Current cost: -3.693027]\n",
      "Iters. done: 369 [Current cost: -3.7738445000000045]\n",
      "Iters. done: 370 [Current cost: -3.7757754999999955]\n",
      "Iters. done: 371 [Current cost: -3.7303850000000036]\n",
      "Iters. done: 372 [Current cost: -3.6978859999999996]\n",
      "Iters. done: 373 [Current cost: -3.702724499999995]\n",
      "Iters. done: 374 [Current cost: -3.773449000000003]\n",
      "Iters. done: 375 [Current cost: -3.748395999999997]\n",
      "Iters. done: 376 [Current cost: -3.7571645]\n",
      "Iters. done: 377 [Current cost: -3.767755]\n",
      "Iters. done: 378 [Current cost: -3.7433304999999963]\n",
      "Iters. done: 379 [Current cost: -3.732630499999991]\n",
      "Iters. done: 380 [Current cost: -3.712494000000002]\n",
      "Iters. done: 381 [Current cost: -3.7327170000000063]\n",
      "Iters. done: 382 [Current cost: -3.7432395000000023]\n",
      "Iters. done: 383 [Current cost: -3.7603419999999996]\n",
      "Iters. done: 384 [Current cost: -3.7974614999999963]\n",
      "Iters. done: 385 [Current cost: -3.7721499999999955]\n",
      "Iters. done: 386 [Current cost: -3.7440299999999977]\n",
      "Iters. done: 387 [Current cost: -3.724686]\n",
      "Iters. done: 388 [Current cost: -3.7206084999999947]\n",
      "Iters. done: 389 [Current cost: -3.730880000000001]\n",
      "Iters. done: 390 [Current cost: -3.6926354999999935]\n",
      "Iters. done: 391 [Current cost: -3.785304000000001]\n",
      "Iters. done: 392 [Current cost: -3.7790614999999974]\n",
      "Iters. done: 393 [Current cost: -3.680828000000001]\n",
      "Iters. done: 394 [Current cost: -3.815531999999993]\n",
      "Iters. done: 395 [Current cost: -3.732028500000001]\n",
      "Iters. done: 396 [Current cost: -3.7704420000000054]\n",
      "Iters. done: 397 [Current cost: -3.7043770000000036]\n",
      "Iters. done: 398 [Current cost: -3.771292000000006]\n",
      "Iters. done: 399 [Current cost: -3.8466834999999913]\n",
      "Iters. done: 400 [Current cost: -3.734424999999997]\n",
      "Iters. done: 401 [Current cost: -3.7525900000000014]\n",
      "Iters. done: 402 [Current cost: -3.7162330000000017]\n",
      "Iters. done: 403 [Current cost: -3.697377999999987]\n",
      "Iters. done: 404 [Current cost: -3.700371500000003]\n",
      "Iters. done: 405 [Current cost: -3.7899119999999975]\n",
      "Iters. done: 406 [Current cost: -3.744185]\n",
      "Iters. done: 407 [Current cost: -3.7578179999999977]\n",
      "Iters. done: 408 [Current cost: -3.7472424999999925]\n",
      "Iters. done: 409 [Current cost: -3.750637499999999]\n",
      "Iters. done: 410 [Current cost: -3.731954999999994]\n",
      "Iters. done: 411 [Current cost: -3.7730044999999937]\n",
      "Iters. done: 412 [Current cost: -3.7350875000000006]\n",
      "Iters. done: 413 [Current cost: -3.7826174999999997]\n",
      "Iters. done: 414 [Current cost: -3.789924]\n",
      "Iters. done: 415 [Current cost: -3.7722469999999957]\n",
      "Iters. done: 416 [Current cost: -3.7448370000000013]\n",
      "Iters. done: 417 [Current cost: -3.705566]\n",
      "Iters. done: 418 [Current cost: -3.804198999999998]\n",
      "Iters. done: 419 [Current cost: -3.797041499999988]\n",
      "Iters. done: 420 [Current cost: -3.7634475]\n",
      "Iters. done: 421 [Current cost: -3.784983999999996]\n",
      "Iters. done: 422 [Current cost: -3.748567500000001]\n",
      "Iters. done: 423 [Current cost: -3.8231375000000014]\n",
      "Iters. done: 424 [Current cost: -3.678870000000005]\n",
      "Iters. done: 425 [Current cost: -3.7444140000000017]\n",
      "Iters. done: 426 [Current cost: -3.8327799999999987]\n",
      "Iters. done: 427 [Current cost: -3.7376540000000054]\n",
      "Iters. done: 428 [Current cost: -3.700326500000001]\n",
      "Iters. done: 429 [Current cost: -3.7644040000000016]\n",
      "Iters. done: 430 [Current cost: -3.7808034999999967]\n",
      "Iters. done: 431 [Current cost: -3.7742995000000006]\n",
      "Iters. done: 432 [Current cost: -3.7356714999999996]\n",
      "Iters. done: 433 [Current cost: -3.7576540000000023]\n",
      "Iters. done: 434 [Current cost: -3.7566110000000013]\n",
      "Iters. done: 435 [Current cost: -3.7555639999999997]\n",
      "Iters. done: 436 [Current cost: -3.799095000000011]\n",
      "Iters. done: 437 [Current cost: -3.720168999999995]\n",
      "Iters. done: 438 [Current cost: -3.731045]\n",
      "Iters. done: 439 [Current cost: -3.7128124999999974]\n",
      "Iters. done: 440 [Current cost: -3.759667500000006]\n",
      "Iters. done: 441 [Current cost: -3.778978500000002]\n"
     ]
    }
   ],
   "source": [
    "estimator = EstimatorV2(mode=backend)\n",
    "estimator.options.default_shots = 10000\n",
    "\n",
    "res = minimize(\n",
    "    cost_func,\n",
    "    x0,\n",
    "    args=(ansatz_isa, H_isa, estimator),\n",
    "    method=\"cobyla\",\n",
    ")"
   ]
  },
  {
   "cell_type": "code",
   "execution_count": 50,
   "id": "30509e97",
   "metadata": {},
   "outputs": [
    {
     "name": "stdout",
     "output_type": "stream",
     "text": [
      "ED result:  -4.060456195262275\n",
      "VQE result:  -3.778978500000002\n"
     ]
    }
   ],
   "source": [
    "print(\"ED result: \",eigvals[0])\n",
    "print(\"VQE result: \",res.fun)"
   ]
  },
  {
   "cell_type": "markdown",
   "id": "83a27fc7",
   "metadata": {},
   "source": [
    "We can also take a look at the convergence. Note, this is not optimzed in terms of performance, but only acts as an example of the functionality. With optimization, fidelities of close to 100% can be reached."
   ]
  },
  {
   "cell_type": "code",
   "execution_count": 51,
   "id": "5a7b9404",
   "metadata": {},
   "outputs": [],
   "source": [
    "import matplotlib.pyplot as plt"
   ]
  },
  {
   "cell_type": "code",
   "execution_count": null,
   "id": "12ff96f1",
   "metadata": {},
   "outputs": [
    {
     "data": {
      "text/plain": [
       "Text(0, 0.5, '$\\\\langle E\\\\rangle$')"
      ]
     },
     "execution_count": 70,
     "metadata": {},
     "output_type": "execute_result"
    },
    {
     "data": {
      "image/png": "[encoded data removed]",
      "text/plain": [
       "<Figure size 640x480 with 1 Axes>"
      ]
     },
     "metadata": {},
     "output_type": "display_data"
    }
   ],
   "source": [
    "plt.figure()\n",
    "plt.scatter(np.arange(len(cost_history_dict[\"cost_history\"])),cost_history_dict[\"cost_history\"], s=20, marker=\"x\", label=\"VQE steps\")\n",
    "plt.hlines(eigvals[0],0,len(cost_history_dict[\"cost_history\"]), color=\"black\", label=\"ED result\")\n",
    "\n",
    "plt.legend()\n",
    "plt.xlabel(\"Iteration\")\n",
    "plt.ylabel(r\"$\\langle E\\rangle$\")"
   ]
  },
  {
   "cell_type": "code",
   "execution_count": 76,
   "id": "12e8a3e3",
   "metadata": {},
   "outputs": [
    {
     "data": {
      "text/plain": [
       "Text(0, 0.5, '$\\\\left|\\\\frac{\\\\langle E_i\\\\rangle - E_\\\\text{correct}}{E_\\\\text{correct}}\\\\right|$')"
      ]
     },
     "execution_count": 76,
     "metadata": {},
     "output_type": "execute_result"
    },
    {
     "data": {
      "image/png": "[encoded data removed]",
      "text/plain": [
       "<Figure size 640x480 with 1 Axes>"
      ]
     },
     "metadata": {},
     "output_type": "display_data"
    }
   ],
   "source": [
    "plt.figure()\n",
    "plt.scatter(np.arange(len(cost_history_dict[\"cost_history\"])),np.abs((cost_history_dict[\"cost_history\"]-eigvals[0])/eigvals[0]), s=20, marker=\"x\")\n",
    "plt.yscale(\"log\")\n",
    "plt.xlabel(\"Iteration\")\n",
    "plt.ylabel(r\"$\\left|\\frac{\\langle E_i\\rangle - E_\\text{correct}}{E_\\text{correct}}\\right|$\", fontsize=20)"
   ]
  },
  {
   "cell_type": "code",
   "execution_count": null,
   "id": "54476b35",
   "metadata": {},
   "outputs": [],
   "source": []
  }
 ],
 "metadata": {
  "kernelspec": {
   "display_name": "DevelEnv",
   "language": "python",
   "name": "python3"
  },
  "language_info": {
   "codemirror_mode": {
    "name": "ipython",
    "version": 3
   },
   "file_extension": ".py",
   "mimetype": "text/x-python",
   "name": "python",
   "nbconvert_exporter": "python",
   "pygments_lexer": "ipython3",
   "version": "3.12.9"
  }
 },
 "nbformat": 4,
 "nbformat_minor": 5
}
